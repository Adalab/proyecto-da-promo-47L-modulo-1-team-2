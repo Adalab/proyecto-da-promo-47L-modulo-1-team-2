{
 "cells": [
  {
   "cell_type": "code",
   "execution_count": null,
   "metadata": {},
   "outputs": [
    {
     "name": "stdout",
     "output_type": "stream",
     "text": [
      "¿Cuál es la capital de Rusia?\n",
      "Incorrecto, la respuesta correcta es:  Moscú\n",
      "¿Cuál es la capital de Italia?\n",
      "Incorrecto, la respuesta correcta es:  Roma\n",
      "¿Cuál es la capital de España?\n",
      "Incorrecto, la respuesta correcta es:  Madrid\n",
      "Game over, ganaste 0 puntos\n"
     ]
    }
   ],
   "source": []
  },
  {
   "cell_type": "code",
   "execution_count": null,
   "metadata": {},
   "outputs": [],
   "source": [
    "preguntas = {\"Rusia\":\"Moscú\", \"Italia\": \"Roma\", \"España\": \"Madrid\"}\n",
    "\n",
    "puntos = 0 \n",
    "for pregunta, respuesta in preguntas.items():\n",
    "    print(f\"¿Cuál es la capital de {pregunta}?\")\n",
    "    jugador = input(\"Tu respuesta: \")\n",
    "\n",
    "    if jugador.lower() == respuesta.lower():\n",
    "        print(\"Capital correcta\")\n",
    "        puntos+=1\n",
    "\n",
    "    else: \n",
    "        print(\"Incorrecto, la respuesta correcta es: \",respuesta)\n",
    "print(f\"Game over, ganaste {puntos} puntos\")"
   ]
  },
  {
   "cell_type": "code",
   "execution_count": null,
   "metadata": {},
   "outputs": [],
   "source": [
    "#con segunda oportunidad añadido \n",
    "preguntas = {\"Rusia\":\"Moscú\", \"Italia\": \"Roma\", \"España\": \"Madrid\"}\n",
    "\n",
    "puntos = 0 \n",
    "for pregunta, respuesta in preguntas.items():\n",
    "    print(f\"¿Cuál es la capital de {pregunta}?\")\n",
    "    jugador = input(\"Tu respuesta: \")\n",
    "\n",
    "    if jugador.lower() == respuesta.lower():\n",
    "        print(\"Capital correcta\")\n",
    "        puntos+=1\n",
    "\n",
    "    elif print(\"Incorrecto, prueba de nuevo\"):\n",
    "     for pregunta, respuesta in preguntas.items():\n",
    "        print(f\"¿Cuál es la capital de {pregunta}?\")\n",
    "        jugador = input(\"Tu respuesta: \")\n",
    "\n",
    "    if jugador.lower() == respuesta.lower():\n",
    "        print(\"Capital correcta\")\n",
    "        puntos+=1\n",
    "    \n",
    "else: \n",
    "        print(\"Incorrecto, la respuesta correcta es: \",respuesta)\n",
    "print(f\"Game over, ganaste {puntos} puntos\")"
   ]
  },
  {
   "cell_type": "code",
   "execution_count": null,
   "metadata": {},
   "outputs": [],
   "source": [
    "Preguntas_juego= {\"capital de rusia\":\"moscú\",\"capital de Italia\":\"Roma\",\"capital de España\":\"Madrid\",\"capital de Suiza\":\"Zurich\",\"capital de Bélgica\":\"Bruselas\",\"capital de Finlandia\":\"Helsinki\"}\n",
    "#hay que definir varias variables, la de pregunta que la hacemos random y la sacamos de las keys de preguntas_juego y la de respuesta _correcta que la sacamos de pregunta de la variable preguntas_juego\n",
    "def pregunta_aleatoria():\n",
    "    pregunta=random(list(Preguntas_juego.keys()))\n",
    "    respuesta_correcta=Preguntas_juego[pregunta]\n",
    "    "
   ]
  },
  {
   "cell_type": "code",
   "execution_count": 5,
   "metadata": {},
   "outputs": [],
   "source": [
    "Preguntas_juego= {\"capital de rusia\":\"moscú\",\"capital de Italia\":\"Roma\",\"capital de España\":\"Madrid\",\"capital de Suiza\":\"Zurich\",\"capital de Bélgica\":\"Bruselas\",\"capital de Finlandia\":\"Helsinki\"}\n",
    "# 2. Función para seleccionar una pregunta aleatoria\n",
    "def pregunta_aleatoria():\n",
    "    pregunta = random.choice(list(preguntas_respuestas.items()))\n",
    "    return pregunta\n",
    "\n",
    "# 3. Bucle principal para el juego\n",
    "def juego():\n",
    "    preguntas_correctas = 0\n",
    "    respuestas_incorrectas = 0\n",
    "    max_incorrectas = 3  # Número máximo de respuestas incorrectas\n",
    "    preguntas_objetivo = 5  # Número de preguntas correctas necesarias para ganar\n",
    "\n",
    "    while preguntas_correctas < preguntas_objetivo and respuestas_incorrectas < max_incorrectas:\n",
    "        pregunta, respuesta_correcta = pregunta_aleatoria()\n",
    "\n",
    "        print(f\"Pregunta: {pregunta}\")\n",
    "        respuesta_usuario = input(\"Tu respuesta: \").strip()\n",
    "\n",
    "        if respuesta_usuario.lower() == respuesta_correcta.lower():\n",
    "            print(\"¡Correcto!\")\n",
    "            preguntas_correctas += 1\n",
    "        else:\n",
    "            print(f\"Incorrecto. La respuesta correcta es: {respuesta_correcta}\")\n",
    "            respuestas_incorrectas += 1\n",
    "\n",
    "        print(f\"Respuestas correctas: {preguntas_correctas}, Incorrectas: {respuestas_incorrectas}\")\n",
    "        print()\n",
    "\n",
    "    # 4. Condiciones de victoria y derrota\n",
    "    if preguntas_correctas >= preguntas_objetivo:\n",
    "        print(\"¡Felicidades, has ganado el juego!\")\n",
    "    else:\n",
    "        print(\"Has alcanzado el límite de respuestas incorrectas. ¡Has perdido!\")\n",
    "\n"
   ]
  },
  {
   "cell_type": "markdown",
   "metadata": {},
   "source": [
    "# 5. Iniciar el juego\n",
    "juego()\n",
    "Cambios que simplifican el código:\n",
    "Selección aleatoria de pregunta:\n",
    "\n",
    "En lugar de usar list(preguntas_respuestas.keys()) y luego buscar la respuesta correcta, podemos usar random.choice(list(preguntas_respuestas.items())), lo que nos devuelve directamente una tupla (pregunta, respuesta_correcta). Esto elimina la necesidad de hacer una búsqueda adicional para obtener la respuesta.\n",
    "Eliminación de preguntas_totales:\n",
    "\n",
    "Como ya no es necesario llevar un contador de cuántas preguntas se han hecho, se eliminó esa variable. Solo se necesita saber cuántas respuestas correctas e incorrectas ha dado el jugador.\n",
    "Control de flujo:\n",
    "\n",
    "Los mensajes y condiciones de victoria/derrota siguen siendo los mismos, pero con menos líneas de código.\n",
    "Generalización del código:\n",
    "\n",
    "Las condiciones de derrota ahora son más sencillas porque si se alcanza el número de respuestas incorrectas máximas, el juego termina de inmediato."
   ]
  }
 ],
 "metadata": {
  "kernelspec": {
   "display_name": "base",
   "language": "python",
   "name": "python3"
  },
  "language_info": {
   "codemirror_mode": {
    "name": "ipython",
    "version": 3
   },
   "file_extension": ".py",
   "mimetype": "text/x-python",
   "name": "python",
   "nbconvert_exporter": "python",
   "pygments_lexer": "ipython3",
   "version": "3.12.7"
  }
 },
 "nbformat": 4,
 "nbformat_minor": 2
}
