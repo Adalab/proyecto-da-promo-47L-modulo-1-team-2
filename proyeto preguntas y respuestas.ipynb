{
 "cells": [
  {
   "cell_type": "code",
   "execution_count": null,
   "metadata": {},
   "outputs": [
    {
     "name": "stdout",
     "output_type": "stream",
     "text": [
      "¿Cuál es la capital de Rusia?\n",
      "Incorrecto, la respuesta correcta es:  Moscú\n",
      "¿Cuál es la capital de Italia?\n",
      "Incorrecto, la respuesta correcta es:  Roma\n",
      "¿Cuál es la capital de España?\n",
      "Incorrecto, la respuesta correcta es:  Madrid\n",
      "Game over, ganaste 0 puntos\n"
     ]
    }
   ],
   "source": []
  },
  {
   "cell_type": "code",
   "execution_count": null,
   "metadata": {},
   "outputs": [],
   "source": []
  },
  {
   "cell_type": "code",
   "execution_count": null,
   "metadata": {},
   "outputs": [],
   "source": [
    "# Juego Adivina Capitales Europeas\n",
    "\n",
    "capitales = [\n",
    "    (\"Rusia\", \"Moscú\"),\n",
    "    (\"Italia\", \"Roma\"),\n",
    "    (\"España\", \"Madrid\"),\n",
    "    (\"Lituania\", \"Vilna\"),\n",
    "    (\"Rumania\", \"Bucarest\")\n",
    "]\n",
    "\n",
    "puntos = 0\n",
    "indice = 0\n",
    "\n",
    "print(\"¡Bienvenida al juego: Adivina Capitales Europeas!\")\n",
    "print(\"Para finalizar el juego escribe: salir\")\n",
    "\n",
    "\n",
    "while True:\n",
    "    pais, capital = capitales[indice]\n",
    "    print(f\"¿Cuál es la capital de {pais}?\")\n",
    "    respuesta = input(\"Tu respuesta (o escribe 'salir' para terminar): \")\n",
    "    \n",
    "    if respuesta.lower() == \"salir\":\n",
    "        print(\"Saliste del juego.\")\n",
    "        print(f\"Juego terminado. Obtuviste {puntos} puntos.\")\n",
    "        break\n",
    "    \n",
    "    if respuesta.lower() == capital.loºwer():\n",
    "        print(\"¡Correcto!\")\n",
    "        puntos += 1\n",
    "    else:\n",
    "        print(f\"Incorrecto, la respuesta correcta es: {capital}\")\n",
    "    \n",
    "    indice += 1\n",
    "    if indice >= len(capitales):\n",
    "        print(\"Has terminado todas las preguntas.\")\n",
    "        print(f\"Juego terminado. Obtuviste {puntos} puntos.\")\n",
    "        break\n",
    "\n",
    "\n"
   ]
  }
 ],
 "metadata": {
  "kernelspec": {
   "display_name": "base",
   "language": "python",
   "name": "python3"
  },
  "language_info": {
   "codemirror_mode": {
    "name": "ipython",
    "version": 3
   },
   "file_extension": ".py",
   "mimetype": "text/x-python",
   "name": "python",
   "nbconvert_exporter": "python",
   "pygments_lexer": "ipython3",
   "version": "3.12.7"
  }
 },
 "nbformat": 4,
 "nbformat_minor": 2
}
