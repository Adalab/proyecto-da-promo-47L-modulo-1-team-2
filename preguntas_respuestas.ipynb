{
 "cells": [
  {
   "cell_type": "code",
   "execution_count": 4,
   "metadata": {},
   "outputs": [
    {
     "name": "stdout",
     "output_type": "stream",
     "text": [
      "¿Cuál es la capital de Rusia?\n",
      "Capital correcta\n",
      "¿Cuál es la capital de Italia?\n",
      "Incorrecto, prueba de nuevo\n",
      "Capital correcta\n",
      "¿Cuál es la capital de España?\n",
      "Capital correcta\n",
      "Game over, ganaste 3 puntos\n"
     ]
    }
   ],
   "source": [
    "diccionario_juego = {\"Rusia\":\"Moscú\", \"Italia\": \"Roma\", \"España\": \"Madrid\"}\n",
    "\n",
    "puntos = 0 \n",
    "for pregunta, respuesta in diccionario_juego.items():\n",
    "    print(f\"¿Cuál es la capital de {pregunta}?\")\n",
    "    jugador = input(\"Tu respuesta: \")\n",
    "\n",
    "    if jugador.lower() == respuesta.lower():\n",
    "        print(\"Capital correcta\")\n",
    "        puntos+=1\n",
    "    else:\n",
    "        print(\"Incorrecto, prueba de nuevo\")\n",
    "        jugador = input(\"Tu respuesta: \")\n",
    "        if jugador.lower() == respuesta.lower():\n",
    "            print(\"Capital correcta\")\n",
    "            puntos+=1\n",
    "        else:\n",
    "            print(f\"Incorrecto, la respuesta correcta es {respuesta}:\")\n",
    "print(f\"Game over, ganaste {puntos} puntos\")\n"
   ]
  },
  {
   "cell_type": "code",
   "execution_count": null,
   "metadata": {},
   "outputs": [],
   "source": [
    "# cambie el nombre del preguntas por diccionario_juegos\n",
    "# reemplacé el elsif por else ya que no hay una condición extra\n",
    "# quite el for extra \n",
    "# coloqué el último else al final dentro del for"
   ]
  },
  {
   "cell_type": "code",
   "execution_count": null,
   "metadata": {},
   "outputs": [],
   "source": []
  }
 ],
 "metadata": {
  "kernelspec": {
   "display_name": "base",
   "language": "python",
   "name": "python3"
  },
  "language_info": {
   "codemirror_mode": {
    "name": "ipython",
    "version": 3
   },
   "file_extension": ".py",
   "mimetype": "text/x-python",
   "name": "python",
   "nbconvert_exporter": "python",
   "pygments_lexer": "ipython3",
   "version": "3.12.7"
  }
 },
 "nbformat": 4,
 "nbformat_minor": 2
}
