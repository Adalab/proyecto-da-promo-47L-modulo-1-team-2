capitales = {
    "Rusia": "Moscú",
    "Italia": "Roma",
    "España": "Madrid",
    "Lituania": "Vilna",
    "Rumania": "Bucarest"
}

puntos = 0
indice = 0
paises = list(capitales.keys())

print("¡Bienvenida al juego: Adivina Capitales Europeas!")
print("Para finalizar el juego escribe: salir")

while True:
    if indice >= len(paises):
        print("Has terminado todas las preguntas.")
        print(f"Juego terminado. Obtuviste {puntos} puntos.")
        break

    pais = paises[indice]
    capital = capitales[pais]
    print(f"¿Cuál es la capital de {pais}?")
    respuesta = input("Tu respuesta (o escribe 'salir' para terminar): ")
    
    if respuesta.lower() == "salir":
        print("Saliste del juego.")
        print(f"Juego terminado. Obtuviste {puntos} puntos.")
        break
    
    if respuesta.lower() == capital.lower():
        print("¡Correcto!")
        puntos += 1
    else:
        print(f"Incorrecto, la respuesta correcta es: {capital}")
    
    indice += 1
