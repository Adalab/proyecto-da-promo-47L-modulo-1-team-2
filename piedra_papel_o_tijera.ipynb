{
 "cells": [
  {
   "cell_type": "code",
<<<<<<< HEAD
   "execution_count": 12,
   "metadata": {},
   "outputs": [
    {
     "name": "stdout",
     "output_type": "stream",
     "text": [
      "¡Bienvenido al juego de Piedra, Papel o Tijera!\n",
      "Escribe 'salir' en cualquier momento para terminar el juego.\n",
      "El ordenador eligió: piedra\n",
      "Empate Ambos eligieron lo mismo.\n",
      "Puntuación actual -> Usuario: 0, Ordenador: 0\n",
      "El ordenador eligió: tijera\n",
      "Empate Ambos eligieron lo mismo.\n",
      "Puntuación actual -> Usuario: 0, Ordenador: 0\n",
      "Gracias por jugar. ¡Hasta luego!\n",
      "El juego terminó en empate. ¡Qué emocionante!\n"
     ]
    }
   ],
   "source": [
    "# Juego Piedra Papel o Tijera\n",
    "\n",
=======
   "execution_count": null,
   "metadata": {
    "vscode": {
     "languageId": "plaintext"
    }
   },
   "outputs": [],
   "source": [
>>>>>>> 6820b741eabfe12682dee2a98e59b475edef4ff4
    "import random\n",
    "\n",
    "elecciones = [\"piedra\", \"papel\", \"tijera\"]\n",
    "\n",
    "def determinar_ganador(usuario, ordenador):\n",
    "    if usuario == ordenador:\n",
    "        return \"Empate\"\n",
    "    elif (usuario == \"piedra\" and ordenador == \"tijera\") or \\\n",
    "         (usuario == \"papel\" and ordenador == \"piedra\") or \\\n",
    "         (usuario == \"tijera\" and ordenador == \"papel\"):\n",
    "        return \"Ganaste\"\n",
    "    else:\n",
    "        return \"Perdiste\"\n",
    "\n",
    "print(\"¡Bienvenido al juego de Piedra, Papel o Tijera!\")\n",
    "print(\"Escribe 'salir' en cualquier momento para terminar el juego.\")\n",
    "\n",
<<<<<<< HEAD
    "rondas = 3\n",
    "contador_usuario = 0\n",
    "contador_ordenador = 0\n",
    "\n",
    "while rondas > 0:\n",
    "    usuario = input(\"Elige tu táctica [piedra, papel, tijera]: \").lower()\n",
    "\n",
=======
    "while True:\n",
    "    usuario = input(\"Elige tu táctica [piedra, papel, tijera]: \").lower()\n",
    "    \n",
>>>>>>> 6820b741eabfe12682dee2a98e59b475edef4ff4
    "    if usuario == \"salir\":\n",
    "        print(\"Gracias por jugar. ¡Hasta luego!\")\n",
    "        break\n",
    "    elif usuario not in elecciones:\n",
    "        print(\"Elección inválida. Por favor, elige entre piedra, papel o tijera.\")\n",
    "        continue\n",
<<<<<<< HEAD
    "\n",
    "    ordenador = random.choice(elecciones)\n",
    "    print(f\"El ordenador eligió: {ordenador}\")\n",
    "    resultado = determinar_ganador(usuario, ordenador)\n",
    "\n",
    "    if resultado == \"Ganaste\":\n",
    "        contador_usuario += 1\n",
    "        print(f\"{resultado} ¡Eres el campeón de esta ronda!\")\n",
    "    elif resultado == \"Empate\":\n",
    "        print(f\"{resultado} Ambos eligieron lo mismo.\")\n",
    "    else:\n",
    "        contador_ordenador += 1\n",
    "        print(f\"{resultado} ¡Intenta de nuevo!\")\n",
    "\n",
    "    rondas -= 1\n",
    "    print(f\"Puntuación actual -> Usuario: {contador_usuario}, Ordenador: {contador_ordenador}\")\n",
    "\n",
    "if contador_usuario > contador_ordenador:\n",
    "    print(\"¡Felicidades! Ganaste el juego.\")\n",
    "elif contador_usuario < contador_ordenador:\n",
    "    print(\"El ordenador ganó el juego. ¡Mejor suerte la próxima vez!\")\n",
    "else:\n",
    "    print(\"El juego terminó en empate. ¡Qué emocionante!\")"
=======
    "    \n",
    "    ordenador = random.choice(elecciones)\n",
    "    print(f\"El ordenador eligió: {ordenador}\")\n",
    "    resultado = determinar_ganador(usuario, ordenador)\n",
    "    \n",
    "    if resultado == \"Ganaste\":\n",
    "        print(f\"{resultado} :tada: ¡Eres el campeón!\")\n",
    "        break\n",
    "    elif resultado == \"Empate\":\n",
    "        print(f\"{resultado} :handshake: Ambos eligieron lo mismo.\")\n",
    "    else:\n",
    "        print(f\"{resultado} :cry: ¡Intenta de nuevo!\")"
>>>>>>> 6820b741eabfe12682dee2a98e59b475edef4ff4
   ]
  }
 ],
 "metadata": {
  "kernelspec": {
   "display_name": "base",
   "language": "python",
   "name": "python3"
  },
  "language_info": {
   "codemirror_mode": {
    "name": "ipython",
    "version": 3
   },
   "file_extension": ".py",
   "mimetype": "text/x-python",
   "name": "python",
   "nbconvert_exporter": "python",
   "pygments_lexer": "ipython3",
   "version": "3.12.7"
  }
 },
 "nbformat": 4,
 "nbformat_minor": 2
}
