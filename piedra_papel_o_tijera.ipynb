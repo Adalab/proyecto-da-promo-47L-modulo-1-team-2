{
 "cells": [
  {
   "cell_type": "code",
   "execution_count": null,
   "metadata": {
    "vscode": {
     "languageId": "plaintext"
    }
   },
   "outputs": [],
   "source": [
    "import random\n",
    "\n",
    "elecciones = [\"piedra\", \"papel\", \"tijera\"]\n",
    "\n",
    "def determinar_ganador(usuario, ordenador):\n",
    "    if usuario == ordenador:\n",
    "        return \"Empate\"\n",
    "    elif (usuario == \"piedra\" and ordenador == \"tijera\") or \\\n",
    "         (usuario == \"papel\" and ordenador == \"piedra\") or \\\n",
    "         (usuario == \"tijera\" and ordenador == \"papel\"):\n",
    "        return \"Ganaste\"\n",
    "    else:\n",
    "        return \"Perdiste\"\n",
    "\n",
    "print(\"¡Bienvenido al juego de Piedra, Papel o Tijera!\")\n",
    "print(\"Escribe 'salir' en cualquier momento para terminar el juego.\")\n",
    "\n",
    "while True:\n",
    "    usuario = input(\"Elige tu táctica [piedra, papel, tijera]: \").lower()\n",
    "    \n",
    "    if usuario == \"salir\":\n",
    "        print(\"Gracias por jugar. ¡Hasta luego!\")\n",
    "        break\n",
    "    elif usuario not in elecciones:\n",
    "        print(\"Elección inválida. Por favor, elige entre piedra, papel o tijera.\")\n",
    "        continue\n",
    "    \n",
    "    ordenador = random.choice(elecciones)\n",
    "    print(f\"El ordenador eligió: {ordenador}\")\n",
    "    resultado = determinar_ganador(usuario, ordenador)\n",
    "    \n",
    "    if resultado == \"Ganaste\":\n",
    "        print(f\"{resultado} :tada: ¡Eres el campeón!\")\n",
    "        break\n",
    "    elif resultado == \"Empate\":\n",
    "        print(f\"{resultado} :handshake: Ambos eligieron lo mismo.\")\n",
    "    else:\n",
    "        print(f\"{resultado} :cry: ¡Intenta de nuevo!\")"
   ]
  }
 ],
 "metadata": {
  "kernelspec": {
   "display_name": "base",
   "language": "python",
   "name": "python3"
  },
  "language_info": {
   "name": "python",
   "version": "3.12.7"
  }
 },
 "nbformat": 4,
 "nbformat_minor": 2
}
