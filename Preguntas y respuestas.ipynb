{
 "cells": [
  {
   "cell_type": "code",
   "execution_count": 1,
   "metadata": {},
<<<<<<< HEAD:proyeto preguntas y respuestas.ipynb
   "outputs": [],
=======
   "outputs": [
    {
     "name": "stdout",
     "output_type": "stream",
     "text": [
      "¡Bienvenida al juego: Adivina Capitales Europeas!\n",
      "Para finalizar el juego escribe: salir\n",
      "¿Cuál es la capital de Rusia?\n",
      "¡Correcto!\n",
      "¿Cuál es la capital de Italia?\n",
      "¡Correcto!\n",
      "¿Cuál es la capital de España?\n",
      "¡Correcto!\n",
      "¿Cuál es la capital de Lituania?\n",
      "Incorrecto, la respuesta correcta es: Vilna\n",
      "¿Cuál es la capital de Rumania?\n",
      "¡Correcto!\n",
      "Has terminado todas las preguntas.\n",
      "Juego terminado. Obtuviste 4 puntos.\n"
     ]
    }
   ],
>>>>>>> 6820b741eabfe12682dee2a98e59b475edef4ff4:Preguntas y respuestas.ipynb
   "source": [
    "capitales = {\n",
    "    \"Rusia\": \"Moscú\",\n",
    "    \"Italia\": \"Roma\",\n",
    "    \"España\": \"Madrid\",\n",
    "    \"Lituania\": \"Vilna\",\n",
    "    \"Rumania\": \"Bucarest\"\n",
    "}\n",
    "\n",
    "puntos = 0\n",
    "indice = 0\n",
    "paises = list(capitales.keys())\n",
    "\n",
    "print(\"¡Bienvenida al juego: Adivina Capitales Europeas!\")\n",
    "print(\"Para finalizar el juego escribe: salir\")\n",
    "\n",
    "while True:\n",
    "    if indice >= len(paises):\n",
    "        print(\"Has terminado todas las preguntas.\")\n",
    "        print(f\"Juego terminado. Obtuviste {puntos} puntos.\")\n",
    "        break\n",
    "\n",
    "    pais = paises[indice]\n",
    "    capital = capitales[pais]\n",
    "    print(f\"¿Cuál es la capital de {pais}?\")\n",
    "    respuesta = input(\"Tu respuesta (o escribe 'salir' para terminar): \")\n",
    "    \n",
    "    if respuesta.lower() == \"salir\":\n",
    "        print(\"Saliste del juego.\")\n",
    "        print(f\"Juego terminado. Obtuviste {puntos} puntos.\")\n",
    "        break\n",
    "    \n",
    "    if respuesta.lower() == capital.lower():\n",
    "        print(\"¡Correcto!\")\n",
    "        puntos += 1\n",
    "    else:\n",
    "        print(f\"Incorrecto, la respuesta correcta es: {capital}\")\n",
    "    \n",
    "    indice += 1\n"
   ]
  }
 ],
 "metadata": {
  "kernelspec": {
   "display_name": "base",
   "language": "python",
   "name": "python3"
  },
  "language_info": {
   "codemirror_mode": {
    "name": "ipython",
    "version": 3
   },
   "file_extension": ".py",
   "mimetype": "text/x-python",
   "name": "python",
   "nbconvert_exporter": "python",
   "pygments_lexer": "ipython3",
   "version": "3.12.7"
  }
 },
 "nbformat": 4,
 "nbformat_minor": 2
}
